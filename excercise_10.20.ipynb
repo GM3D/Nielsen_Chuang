{
 "cells": [
  {
   "cell_type": "markdown",
   "metadata": {},
   "source": [
    "## exercise 10.20\n",
    "$K = \\mathbb{Z/2Z}$、列ベクトルによる表示を用いて\n",
    "$G = ({\\bf g}_1, \\ldots, {\\bf g}_k)$ (${\\bf g}_i \\in K^n$), $H = ({\\bf h}_1, \\ldots, {\\bf h}_n)$, (${\\bf h}_j \\in K^{n-k}$)とする。\n",
    "    $d(C) = \\min_{i=1}^k wt({\\bf g}_i)$ ($wt({\\bf g}_i)$は列ベクトル${\\bf g}_i$中の1の個数)と書けるが、まずこの$d(C)$は問題中にある$H$から決まる$d$の値より小さくなることはない。なぜなら、$HG = O$より任意の$i$について$\\sum_{j=1}^n {\\bf h}_j ({\\bf g}_i)_j = {\\bf 0}$であり、($({\\bf g}_i)_j$は列ベクトル${\\bf g}_i$の第$j$成分)、$d(C)$の定義からある$i$については非零な成分が$d(C)$個しかないが、それは上式より$d(C) < d$個の${\\bf h}_j$たちの間に線形従属関係があることを意味するので、$d(C)$がもし$d$より小さいとすると、$d - 1$個まではどの${\\bf h}_j$たちをとっても線形独立という仮定に反するからである。\n",
    "\n",
    "一方、問題の仮定からある$d$個の${\\bf h}_j$たちの間には線形従属関係があるので、この関係を$\\sum_{j=1}^n {\\bf h}_j a_j = {\\bf 0}$ ($a_j \\in K$)と書くと、これは列ベクトル ${\\bf a} := {}^t (a_1, \\ldots a_n)$が$H {\\bf a} = {\\bf 0}$を満たすことを意味する。このような${\\bf a}$は$G$の定める符号空間の中に含まれているので、各符号語に含まれる1の個数の最小値である$d(C)$はたかだか${\\bf a}$の非零成分の数である$d$以下である。\n",
    "\n",
    "以上より、$d(C) = d$となることが示された。\n"
   ]
  },
  {
   "cell_type": "code",
   "execution_count": null,
   "metadata": {},
   "outputs": [],
   "source": []
  }
 ],
 "metadata": {
  "kernelspec": {
   "display_name": "Python 3",
   "language": "python",
   "name": "python3"
  },
  "language_info": {
   "codemirror_mode": {
    "name": "ipython",
    "version": 3
   },
   "file_extension": ".py",
   "mimetype": "text/x-python",
   "name": "python",
   "nbconvert_exporter": "python",
   "pygments_lexer": "ipython3",
   "version": "3.6.2"
  }
 },
 "nbformat": 4,
 "nbformat_minor": 2
}
